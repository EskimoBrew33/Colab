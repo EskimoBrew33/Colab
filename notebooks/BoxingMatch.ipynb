{
  "nbformat": 4,
  "nbformat_minor": 0,
  "metadata": {
    "colab": {
      "provenance": [],
      "authorship_tag": "ABX9TyO4HV3jJ3nT5ZVdRCyrezUM",
      "include_colab_link": true
    },
    "kernelspec": {
      "name": "python3",
      "display_name": "Python 3"
    },
    "language_info": {
      "name": "python"
    }
  },
  "cells": [
    {
      "cell_type": "markdown",
      "metadata": {
        "id": "view-in-github",
        "colab_type": "text"
      },
      "source": [
        "<a href=\"https://colab.research.google.com/github/EskimoBrew33/Colab/blob/main/BoxingMatch.ipynb\" target=\"_parent\"><img src=\"https://colab.research.google.com/assets/colab-badge.svg\" alt=\"Open In Colab\"/></a>"
      ]
    },
    {
      "source": [
        "import random\n",
        "import time\n",
        "\n",
        "def display_boxer(name, health, color):\n",
        "  \"\"\"Displays the boxer's name and a colorful health bar.\"\"\"\n",
        "  max_health = 20\n",
        "  health_bar = \"[\" + \"#\" * health + \" \" * (max_health - health) + \"]\"\n",
        "  if color == \"red\":\n",
        "    print(f\"\\033[31m{name}: {health_bar} ({health}/{max_health})\\033[0m\") # Use a less intense red\n",
        "  elif color == \"blue\":\n",
        "    print(f\"\\033[94m{name}: {health_bar} ({health}/{max_health})\\033[0m\")\n",
        "\n",
        "def attack(attacker, defender):\n",
        "  \"\"\"Simulates an attack from one boxer to another.\"\"\"\n",
        "  damage = random.randint(1, 5)\n",
        "  defender[\"health\"] -= damage\n",
        "  print(f\"{attacker['name']} lands a punch! {defender['name']} takes {damage} damage.\")\n",
        "  if defender[\"health\"] <= 0:\n",
        "    print(f\"{defender['name']} is knocked out! {attacker['name']} wins!\")\n",
        "    return True\n",
        "  return False\n",
        "\n",
        "def generate_comment(boxer1, boxer2):\n",
        "  \"\"\"Generates a colorful comment based on who is winning.\"\"\"\n",
        "  if boxer1[\"health\"] > boxer2[\"health\"]:\n",
        "    comments = [\n",
        "        f'{boxer1[\"name\"]} is in the lead!',\n",
        "        f'{boxer2[\"name\"]} needs a knockout!',\n",
        "        \"This is a one-sided fight!\",\n",
        "    ]\n",
        "  elif boxer2[\"health\"] > boxer1[\"health\"]:\n",
        "    comments = [\n",
        "        f'{boxer2[\"name\"]} is dominating!',\n",
        "        f'{boxer1[\"name\"]} is on the ropes!',\n",
        "        f'Can {boxer1[\"name\"]} make a comeback?',\n",
        "    ]\n",
        "  else:\n",
        "    comments = [\n",
        "        \"It's a tie! This is getting intense!\",\n",
        "        \"Both fighters are evenly matched!\",\n",
        "        \"The tension is palpable!\",\n",
        "    ]\n",
        "  return random.choice(comments)\n",
        "\n",
        "def boxing_match():\n",
        "  \"\"\"Simulates a boxing match between two boxers.\"\"\"\n",
        "  boxer1 = {\"name\": \"Rocky\", \"health\": 20}\n",
        "  boxer2 = {\"name\": \"Apollo\", \"health\": 20}\n",
        "\n",
        "  print(\"Let's get ready to rumble!\")\n",
        "  time.sleep(1)\n",
        "\n",
        "  round_num = 1\n",
        "  while True:\n",
        "    print(f\"\\n--- Round {round_num} ---\")\n",
        "    display_boxer(boxer1[\"name\"], boxer1[\"health\"], \"red\")\n",
        "    display_boxer(boxer2[\"name\"], boxer2[\"health\"], \"blue\")\n",
        "    time.sleep(1)\n",
        "\n",
        "    if random.randint(0, 1) == 0:\n",
        "      if attack(boxer1, boxer2):\n",
        "        break\n",
        "      if attack(boxer2, boxer1):\n",
        "        break\n",
        "    else:\n",
        "      if attack(boxer2, boxer1):\n",
        "        break\n",
        "      if attack(boxer1, boxer2):\n",
        "        break\n",
        "\n",
        "    print(generate_comment(boxer1, boxer2))\n",
        "\n",
        "    round_num += 1\n",
        "    time.sleep(1)\n",
        "\n",
        "boxing_match()"
      ],
      "cell_type": "code",
      "metadata": {
        "id": "mKaR268qFF2Z"
      },
      "execution_count": null,
      "outputs": []
    }
  ]
}