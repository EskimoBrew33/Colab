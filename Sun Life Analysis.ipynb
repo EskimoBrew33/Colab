{
  "nbformat": 4,
  "nbformat_minor": 0,
  "metadata": {
    "colab": {
      "provenance": [],
      "authorship_tag": "ABX9TyPXx4RDsVgP4GQQw5DhGW00",
      "include_colab_link": true
    },
    "kernelspec": {
      "name": "python3",
      "display_name": "Python 3"
    },
    "language_info": {
      "name": "python"
    }
  },
  "cells": [
    {
      "cell_type": "markdown",
      "metadata": {
        "id": "view-in-github",
        "colab_type": "text"
      },
      "source": [
        "<a href=\"https://colab.research.google.com/github/EskimoBrew33/Colab/blob/main/Sun%20Life%20Analysis.ipynb\" target=\"_parent\"><img src=\"https://colab.research.google.com/assets/colab-badge.svg\" alt=\"Open In Colab\"/></a>"
      ]
    },
    {
      "source": [
        "import xml.etree.ElementTree as ET\n",
        "import os\n",
        "import csv\n",
        "\n",
        "def flatten_xml(element, parent_path='', flattened_data=None):\n",
        "  \"\"\"Flattens an XML element and its children into a list of paths.\n",
        "\n",
        "  Args:\n",
        "    element: The XML element to flatten.\n",
        "    parent_path: The path of the parent element.\n",
        "    flattened_data: A list to store the flattened data.\n",
        "\n",
        "  Returns:\n",
        "    A list of tuples, where each tuple contains the flattened path, the text content of the element, and the tag of the element.\n",
        "  \"\"\"\n",
        "  if flattened_data is None:\n",
        "    flattened_data = []\n",
        "  path = f'{parent_path}/{element.tag}' if parent_path else element.tag\n",
        "  if element.text and element.text.strip():\n",
        "    flattened_data.append((path, element.text.strip(), element.tag))\n",
        "  for child in element:\n",
        "    flatten_xml(child, path, flattened_data)\n",
        "  return flattened_data\n",
        "\n",
        "def analyze_acord_files():\n",
        "  \"\"\"Analyzes ACORD XML files in the current Colab session and generates a consolidated CSV file.\"\"\"\n",
        "  all_data = []\n",
        "  for filename in os.listdir():\n",
        "    if filename.endswith('.xml'):\n",
        "      product = filename[:-4]  # Remove '.xml' extension\n",
        "      try:\n",
        "        tree = ET.parse(filename)\n",
        "        root = tree.getroot()\n",
        "        flattened_data = flatten_xml(root)\n",
        "        for path, text, tag in flattened_data:\n",
        "          all_data.append((path, text, product))\n",
        "      except ET.ParseError:\n",
        "        print(f'Error parsing XML file: {filename}')\n",
        "      except FileNotFoundError:\n",
        "        print(f'XML file not found: {filename}')\n",
        "\n",
        "  # Sort data by Product\n",
        "  all_data.sort(key=lambda x: x[2])\n",
        "\n",
        "  # Write data to CSV file\n",
        "  with open('acord_consolidated.csv', 'w', newline='') as csvfile:\n",
        "    writer = csv.writer(csvfile)\n",
        "    writer.writerow(['Path', 'Value', 'Product'])\n",
        "    writer.writerows(all_data)\n",
        "\n",
        "# Analyze ACORD files in the current Colab session\n",
        "analyze_acord_files()"
      ],
      "cell_type": "code",
      "metadata": {
        "id": "YleShsRrixId"
      },
      "execution_count": 3,
      "outputs": []
    }
  ]
}